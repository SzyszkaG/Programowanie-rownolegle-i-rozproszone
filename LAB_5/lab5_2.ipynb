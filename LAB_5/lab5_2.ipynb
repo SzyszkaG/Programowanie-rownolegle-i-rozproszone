{
  "nbformat": 4,
  "nbformat_minor": 0,
  "metadata": {
    "colab": {
      "provenance": []
    },
    "kernelspec": {
      "name": "python3",
      "display_name": "Python 3"
    },
    "language_info": {
      "name": "python"
    }
  },
  "cells": [
    {
      "cell_type": "code",
      "execution_count": 5,
      "metadata": {
        "colab": {
          "base_uri": "https://localhost:8080/"
        },
        "id": "aoBI1okzXgkM",
        "outputId": "e0cbf418-42d4-4619-8d3f-3dd05e692ab9"
      },
      "outputs": [
        {
          "output_type": "stream",
          "name": "stdout",
          "text": [
            "Wynik dla procesu 1 to = 0.507000 \tCzas potrzebny do wykonania procesu numer 1 to = 0.000085\n",
            "Wynik dla procesu 6 to = 2.352000 \tCzas potrzebny do wykonania procesu numer 6 to = 0.000051\n",
            "Wynik dla procesu 3 to = 1.083000 \tCzas potrzebny do wykonania procesu numer 3 to = 0.000044\n",
            "Wynik dla procesu 4 to = 1.452000 \tCzas potrzebny do wykonania procesu numer 4 to = 0.000058\n",
            "Wynik dla procesu 7 to = 2.883000 \tCzas potrzebny do wykonania procesu numer 7 to = 0.000062\n",
            "Wynik dla procesu 9 to = 4.107000 \tCzas potrzebny do wykonania procesu numer 9 to = 0.000052\n",
            "Wynik dla procesu 8 to = 3.468000 \tCzas potrzebny do wykonania procesu numer 8 to = 0.000058\n",
            "Wynik dla procesu 5 to = 1.875000 \tCzas potrzebny do wykonania procesu numer 5 to = 0.000037\n",
            "Wynik dla procesu 2 to = 0.768000 \tCzas potrzebny do wykonania procesu numer 2 to = 0.000032\n",
            "Wartosc funkcji dolnej granicy calki= 0.150000 \n",
            "Wartosc funkcji gornej granicy calki= 2.400000 \n",
            "Wartosc calki = 21.045000 \n"
          ]
        }
      ],
      "source": [
        "%%sh\n",
        "cat > pi-mpi.c << EOF\n",
        "#include <mpi.h>\n",
        "#include <stdio.h>\n",
        "#include <time.h>\n",
        " \n",
        "double funkcja(double x)\n",
        "{\n",
        "  return x*x;\n",
        "}\n",
        "\n",
        "int main(int argc, char **argv)\n",
        "{\n",
        "    int numer_procesu;\n",
        "    int liczba_procesow;\n",
        "    int tag=1;\n",
        "    \n",
        "    MPI_Status status;\n",
        "    MPI_Init(&argc, &argv);\n",
        "    MPI_Comm_rank(MPI_COMM_WORLD, &numer_procesu);\n",
        "    MPI_Comm_size(MPI_COMM_WORLD, &liczba_procesow);\n",
        "    clock_t t;\n",
        "    double czas_potrzebny;\n",
        "\n",
        "    double l_procesow = liczba_procesow, n_procesu = numer_procesu;\n",
        "\n",
        "    double granica_dolna_calki = 1,granica_gorna_calki = 4;\n",
        "    double h = (granica_gorna_calki - granica_dolna_calki) / l_procesow;\n",
        "    \n",
        "    if(numer_procesu == 0)\n",
        "    {\n",
        "      double calka = 0 ,x=0;\n",
        "      for(int i=1; i<liczba_procesow; i++)\n",
        "      {\n",
        "        MPI_Recv(&x, 1, MPI_DOUBLE, i, tag, MPI_COMM_WORLD, &status);\n",
        "        calka +=x;\n",
        "      }\n",
        "      printf(\"Wartosc funkcji dolnej granicy calki= %f \\n\",funkcja(granica_dolna_calki)/2 * h);\n",
        "      printf(\"Wartosc funkcji gornej granicy calki= %f \\n\",funkcja(granica_gorna_calki)/2 * h);\n",
        "\n",
        "      printf(\"Wartosc calki = %1f \\n\", h * (funkcja(granica_dolna_calki)/2 + calka \n",
        "        + funkcja(granica_gorna_calki)/2));\n",
        "    }\n",
        "\n",
        "    if(numer_procesu != 0)\n",
        "    {\n",
        "        t = clock();\n",
        "        double xi,wynik;\n",
        "        n_procesu = numer_procesu;\n",
        "        xi = granica_dolna_calki + (n_procesu/l_procesow) * (granica_gorna_calki - granica_dolna_calki);\n",
        "        wynik = funkcja(xi);\n",
        "        printf(\"Wynik dla procesu %d to = %f \\t\", numer_procesu,wynik*h);\n",
        "        MPI_Send(&wynik, 1, MPI_DOUBLE, 0, tag, MPI_COMM_WORLD);\n",
        "        t = clock() - t;\n",
        "        czas_potrzebny = ((double)t)/CLOCKS_PER_SEC;\n",
        "        printf(\"Czas potrzebny do wykonania procesu numer %d to = %f\\n\",numer_procesu,czas_potrzebny);\n",
        "    }\n",
        "\n",
        "    MPI_Finalize();\n",
        "}\n",
        "EOF\n",
        "mpicc pi-mpi.c && mpirun -n 10 --allow-run-as-root a.out"
      ]
    }
  ]
}