{
  "cells": [
    {
      "cell_type": "code",
      "execution_count": 11,
      "metadata": {
        "colab": {
          "base_uri": "https://localhost:8080/",
          "height": 721
        },
        "id": "_hs-19en815e",
        "outputId": "29a6073d-d892-4076-8e4e-58890583e007"
      },
      "outputs": [
        {
          "name": "stdout",
          "output_type": "stream",
          "text": [
            "Rank 0: Suma od 1 do 10 wynosi 55\n"
          ]
        },
        {
          "name": "stderr",
          "output_type": "stream",
          "text": [
            "[f73f3882bcaa:03509] *** An error occurred in MPI_Reduce\n",
            "[f73f3882bcaa:03509] *** reported by process [3419275265,0]\n",
            "[f73f3882bcaa:03509] *** on communicator MPI_COMM_WORLD\n",
            "[f73f3882bcaa:03509] *** MPI_ERR_ROOT: invalid root\n",
            "[f73f3882bcaa:03509] *** MPI_ERRORS_ARE_FATAL (processes in this communicator will now abort,\n",
            "[f73f3882bcaa:03509] ***    and potentially your MPI job)\n"
          ]
        },
        {
          "ename": "CalledProcessError",
          "evalue": "ignored",
          "output_type": "error",
          "traceback": [
            "\u001b[0;31m---------------------------------------------------------------------------\u001b[0m",
            "\u001b[0;31mCalledProcessError\u001b[0m                        Traceback (most recent call last)",
            "\u001b[0;32m<ipython-input-11-aa78c5b11c01>\u001b[0m in \u001b[0;36m<module>\u001b[0;34m\u001b[0m\n\u001b[0;32m----> 1\u001b[0;31m \u001b[0mget_ipython\u001b[0m\u001b[0;34m(\u001b[0m\u001b[0;34m)\u001b[0m\u001b[0;34m.\u001b[0m\u001b[0mrun_cell_magic\u001b[0m\u001b[0;34m(\u001b[0m\u001b[0;34m'sh'\u001b[0m\u001b[0;34m,\u001b[0m \u001b[0;34m''\u001b[0m\u001b[0;34m,\u001b[0m \u001b[0;34m'cat > pi-mpi.c << EOF\\n#include <mpi.h>\\n#include <stdio.h>\\n\\nint main(int argc, char** argv) {\\n  // Inicjalizacja MPI\\n  MPI_Init(NULL, NULL);\\n\\n  // Pobranie informacji o procesach\\n  int world_size;\\n  MPI_Comm_size(MPI_COMM_WORLD, &world_size);\\n\\n  // Pobranie ranku procesu\\n  int world_rank;\\n  MPI_Comm_rank(MPI_COMM_WORLD, &world_rank);\\n\\n  // Zmienna przechowująca cząstkową sumę\\n  int partial_sum = 0;\\n\\n  // Wyliczenie cząstkowej sumy\\n  int start = world_rank * 10 + 1;\\n  int end = start + 9;\\n  for (int i = start; i <= end; i++) {\\n    partial_sum += i;\\n  }\\n\\n  // Wypisanie cząstkowej sumy\\n  printf(\"Rank %d: Suma od %d do %d wynosi %d\\\\n\", world_rank, start, end, partial_sum);\\n\\n  // Gromadzenie cząstkowych sum\\n  int total_sum;\\n  MPI_Reduce(&partial_sum, &total_sum, 1, MPI_INT, MPI_SUM, 9, MPI_COMM_WORLD);\\n\\n  // Wyliczenie i wypisanie globalnej sumy i średniej\\n  if (world_rank == 9) {\\n    int avg = total_sum / 100;\\n    printf(\"Rank %d: Globalna suma wynosi %d, średnia wynosi %d\\\\n\", world_rank, total_sum, avg);\\n  }\\n\\n  // Zakończenie MPI\\n  MPI_Finalize();\\n  return 0;\\n}\\n\\nEOF\\nmpicc pi-mpi.c && mpirun -n 1 --allow-run-as-root a.out\\n'\u001b[0m\u001b[0;34m)\u001b[0m\u001b[0;34m\u001b[0m\u001b[0;34m\u001b[0m\u001b[0m\n\u001b[0m",
            "\u001b[0;32m/usr/local/lib/python3.8/dist-packages/IPython/core/interactiveshell.py\u001b[0m in \u001b[0;36mrun_cell_magic\u001b[0;34m(self, magic_name, line, cell)\u001b[0m\n\u001b[1;32m   2357\u001b[0m             \u001b[0;32mwith\u001b[0m \u001b[0mself\u001b[0m\u001b[0;34m.\u001b[0m\u001b[0mbuiltin_trap\u001b[0m\u001b[0;34m:\u001b[0m\u001b[0;34m\u001b[0m\u001b[0;34m\u001b[0m\u001b[0m\n\u001b[1;32m   2358\u001b[0m                 \u001b[0margs\u001b[0m \u001b[0;34m=\u001b[0m \u001b[0;34m(\u001b[0m\u001b[0mmagic_arg_s\u001b[0m\u001b[0;34m,\u001b[0m \u001b[0mcell\u001b[0m\u001b[0;34m)\u001b[0m\u001b[0;34m\u001b[0m\u001b[0;34m\u001b[0m\u001b[0m\n\u001b[0;32m-> 2359\u001b[0;31m                 \u001b[0mresult\u001b[0m \u001b[0;34m=\u001b[0m \u001b[0mfn\u001b[0m\u001b[0;34m(\u001b[0m\u001b[0;34m*\u001b[0m\u001b[0margs\u001b[0m\u001b[0;34m,\u001b[0m \u001b[0;34m**\u001b[0m\u001b[0mkwargs\u001b[0m\u001b[0;34m)\u001b[0m\u001b[0;34m\u001b[0m\u001b[0;34m\u001b[0m\u001b[0m\n\u001b[0m\u001b[1;32m   2360\u001b[0m             \u001b[0;32mreturn\u001b[0m \u001b[0mresult\u001b[0m\u001b[0;34m\u001b[0m\u001b[0;34m\u001b[0m\u001b[0m\n\u001b[1;32m   2361\u001b[0m \u001b[0;34m\u001b[0m\u001b[0m\n",
            "\u001b[0;32m/usr/local/lib/python3.8/dist-packages/IPython/core/magics/script.py\u001b[0m in \u001b[0;36mnamed_script_magic\u001b[0;34m(line, cell)\u001b[0m\n\u001b[1;32m    140\u001b[0m             \u001b[0;32melse\u001b[0m\u001b[0;34m:\u001b[0m\u001b[0;34m\u001b[0m\u001b[0;34m\u001b[0m\u001b[0m\n\u001b[1;32m    141\u001b[0m                 \u001b[0mline\u001b[0m \u001b[0;34m=\u001b[0m \u001b[0mscript\u001b[0m\u001b[0;34m\u001b[0m\u001b[0;34m\u001b[0m\u001b[0m\n\u001b[0;32m--> 142\u001b[0;31m             \u001b[0;32mreturn\u001b[0m \u001b[0mself\u001b[0m\u001b[0;34m.\u001b[0m\u001b[0mshebang\u001b[0m\u001b[0;34m(\u001b[0m\u001b[0mline\u001b[0m\u001b[0;34m,\u001b[0m \u001b[0mcell\u001b[0m\u001b[0;34m)\u001b[0m\u001b[0;34m\u001b[0m\u001b[0;34m\u001b[0m\u001b[0m\n\u001b[0m\u001b[1;32m    143\u001b[0m \u001b[0;34m\u001b[0m\u001b[0m\n\u001b[1;32m    144\u001b[0m         \u001b[0;31m# write a basic docstring:\u001b[0m\u001b[0;34m\u001b[0m\u001b[0;34m\u001b[0m\u001b[0;34m\u001b[0m\u001b[0m\n",
            "\u001b[0;32m<decorator-gen-103>\u001b[0m in \u001b[0;36mshebang\u001b[0;34m(self, line, cell)\u001b[0m\n",
            "\u001b[0;32m/usr/local/lib/python3.8/dist-packages/IPython/core/magic.py\u001b[0m in \u001b[0;36m<lambda>\u001b[0;34m(f, *a, **k)\u001b[0m\n\u001b[1;32m    185\u001b[0m     \u001b[0;31m# but it's overkill for just that one bit of state.\u001b[0m\u001b[0;34m\u001b[0m\u001b[0;34m\u001b[0m\u001b[0;34m\u001b[0m\u001b[0m\n\u001b[1;32m    186\u001b[0m     \u001b[0;32mdef\u001b[0m \u001b[0mmagic_deco\u001b[0m\u001b[0;34m(\u001b[0m\u001b[0marg\u001b[0m\u001b[0;34m)\u001b[0m\u001b[0;34m:\u001b[0m\u001b[0;34m\u001b[0m\u001b[0;34m\u001b[0m\u001b[0m\n\u001b[0;32m--> 187\u001b[0;31m         \u001b[0mcall\u001b[0m \u001b[0;34m=\u001b[0m \u001b[0;32mlambda\u001b[0m \u001b[0mf\u001b[0m\u001b[0;34m,\u001b[0m \u001b[0;34m*\u001b[0m\u001b[0ma\u001b[0m\u001b[0;34m,\u001b[0m \u001b[0;34m**\u001b[0m\u001b[0mk\u001b[0m\u001b[0;34m:\u001b[0m \u001b[0mf\u001b[0m\u001b[0;34m(\u001b[0m\u001b[0;34m*\u001b[0m\u001b[0ma\u001b[0m\u001b[0;34m,\u001b[0m \u001b[0;34m**\u001b[0m\u001b[0mk\u001b[0m\u001b[0;34m)\u001b[0m\u001b[0;34m\u001b[0m\u001b[0;34m\u001b[0m\u001b[0m\n\u001b[0m\u001b[1;32m    188\u001b[0m \u001b[0;34m\u001b[0m\u001b[0m\n\u001b[1;32m    189\u001b[0m         \u001b[0;32mif\u001b[0m \u001b[0mcallable\u001b[0m\u001b[0;34m(\u001b[0m\u001b[0marg\u001b[0m\u001b[0;34m)\u001b[0m\u001b[0;34m:\u001b[0m\u001b[0;34m\u001b[0m\u001b[0;34m\u001b[0m\u001b[0m\n",
            "\u001b[0;32m/usr/local/lib/python3.8/dist-packages/IPython/core/magics/script.py\u001b[0m in \u001b[0;36mshebang\u001b[0;34m(self, line, cell)\u001b[0m\n\u001b[1;32m    243\u001b[0m             \u001b[0msys\u001b[0m\u001b[0;34m.\u001b[0m\u001b[0mstderr\u001b[0m\u001b[0;34m.\u001b[0m\u001b[0mflush\u001b[0m\u001b[0;34m(\u001b[0m\u001b[0;34m)\u001b[0m\u001b[0;34m\u001b[0m\u001b[0;34m\u001b[0m\u001b[0m\n\u001b[1;32m    244\u001b[0m         \u001b[0;32mif\u001b[0m \u001b[0margs\u001b[0m\u001b[0;34m.\u001b[0m\u001b[0mraise_error\u001b[0m \u001b[0;32mand\u001b[0m \u001b[0mp\u001b[0m\u001b[0;34m.\u001b[0m\u001b[0mreturncode\u001b[0m\u001b[0;34m!=\u001b[0m\u001b[0;36m0\u001b[0m\u001b[0;34m:\u001b[0m\u001b[0;34m\u001b[0m\u001b[0;34m\u001b[0m\u001b[0m\n\u001b[0;32m--> 245\u001b[0;31m             \u001b[0;32mraise\u001b[0m \u001b[0mCalledProcessError\u001b[0m\u001b[0;34m(\u001b[0m\u001b[0mp\u001b[0m\u001b[0;34m.\u001b[0m\u001b[0mreturncode\u001b[0m\u001b[0;34m,\u001b[0m \u001b[0mcell\u001b[0m\u001b[0;34m,\u001b[0m \u001b[0moutput\u001b[0m\u001b[0;34m=\u001b[0m\u001b[0mout\u001b[0m\u001b[0;34m,\u001b[0m \u001b[0mstderr\u001b[0m\u001b[0;34m=\u001b[0m\u001b[0merr\u001b[0m\u001b[0;34m)\u001b[0m\u001b[0;34m\u001b[0m\u001b[0;34m\u001b[0m\u001b[0m\n\u001b[0m\u001b[1;32m    246\u001b[0m \u001b[0;34m\u001b[0m\u001b[0m\n\u001b[1;32m    247\u001b[0m     \u001b[0;32mdef\u001b[0m \u001b[0m_run_script\u001b[0m\u001b[0;34m(\u001b[0m\u001b[0mself\u001b[0m\u001b[0;34m,\u001b[0m \u001b[0mp\u001b[0m\u001b[0;34m,\u001b[0m \u001b[0mcell\u001b[0m\u001b[0;34m,\u001b[0m \u001b[0mto_close\u001b[0m\u001b[0;34m)\u001b[0m\u001b[0;34m:\u001b[0m\u001b[0;34m\u001b[0m\u001b[0;34m\u001b[0m\u001b[0m\n",
            "\u001b[0;31mCalledProcessError\u001b[0m: Command 'b'cat > pi-mpi.c << EOF\\n#include <mpi.h>\\n#include <stdio.h>\\n\\nint main(int argc, char** argv) {\\n  // Inicjalizacja MPI\\n  MPI_Init(NULL, NULL);\\n\\n  // Pobranie informacji o procesach\\n  int world_size;\\n  MPI_Comm_size(MPI_COMM_WORLD, &world_size);\\n\\n  // Pobranie ranku procesu\\n  int world_rank;\\n  MPI_Comm_rank(MPI_COMM_WORLD, &world_rank);\\n\\n  // Zmienna przechowuj\\xc4\\x85ca cz\\xc4\\x85stkow\\xc4\\x85 sum\\xc4\\x99\\n  int partial_sum = 0;\\n\\n  // Wyliczenie cz\\xc4\\x85stkowej sumy\\n  int start = world_rank * 10 + 1;\\n  int end = start + 9;\\n  for (int i = start; i <= end; i++) {\\n    partial_sum += i;\\n  }\\n\\n  // Wypisanie cz\\xc4\\x85stkowej sumy\\n  printf(\"Rank %d: Suma od %d do %d wynosi %d\\\\n\", world_rank, start, end, partial_sum);\\n\\n  // Gromadzenie cz\\xc4\\x85stkowych sum\\n  int total_sum;\\n  MPI_Reduce(&partial_sum, &total_sum, 1, MPI_INT, MPI_SUM, 9, MPI_COMM_WORLD);\\n\\n  // Wyliczenie i wypisanie globalnej sumy i \\xc5\\x9bredniej\\n  if (world_rank == 9) {\\n    int avg = total_sum / 100;\\n    printf(\"Rank %d: Globalna suma wynosi %d, \\xc5\\x9brednia wynosi %d\\\\n\", world_rank, total_sum, avg);\\n  }\\n\\n  // Zako\\xc5\\x84czenie MPI\\n  MPI_Finalize();\\n  return 0;\\n}\\n\\nEOF\\nmpicc pi-mpi.c && mpirun -n 1 --allow-run-as-root a.out\\n'' returned non-zero exit status 8."
          ]
        }
      ],
      "source": [
        "%%sh\n",
        "cat > pi-mpi.c << EOF\n",
        "#include <mpi.h>\n",
        "#include <stdio.h>\n",
        "\n",
        "int main(int argc, char** argv) {\n",
        "  // Inicjalizacja MPI\n",
        "  MPI_Init(NULL, NULL);\n",
        "\n",
        "  // Pobranie informacji o procesach\n",
        "  int world_size;\n",
        "  MPI_Comm_size(MPI_COMM_WORLD, &world_size);\n",
        "\n",
        "  // Pobranie rank procesu\n",
        "  int world_rank;\n",
        "  MPI_Comm_rank(MPI_COMM_WORLD, &world_rank);\n",
        "\n",
        "  // Zmienna przechowująca cząstkową sumę\n",
        "  int partial_sum = 0;\n",
        "\n",
        "  // Wyliczenie cząstkowej sumy\n",
        "  int start = world_rank * 10 + 1;\n",
        "  int end = start + 9;\n",
        "  for (int i = start; i <= end; i++) {\n",
        "    partial_sum += i;\n",
        "  }\n",
        "\n",
        "  // Wypisanie cząstkowej sumy\n",
        "  printf(\"Rank %d: Suma od %d do %d wynosi %d\\n\", world_rank, start, end, partial_sum);\n",
        "\n",
        "  // Gromadzenie cząstkowych sum\n",
        "  int total_sum;\n",
        "  MPI_Reduce(&partial_sum, &total_sum, 1, MPI_INT, MPI_SUM, 9, MPI_COMM_WORLD);\n",
        "\n",
        "  // Wyliczenie i wypisanie globalnej sumy i średniej\n",
        "  if (world_rank == 9) {\n",
        "    int avg = total_sum / 100;\n",
        "    printf(\"Rank %d: Globalna suma wynosi %d, średnia wynosi %d\\n\", world_rank, total_sum, avg);\n",
        "  }\n",
        "\n",
        "  // Zakończenie MPI\n",
        "  MPI_Finalize();\n",
        "  return 0;\n",
        "}\n",
        "\n",
        "EOF\n",
        "mpicc pi-mpi.c && mpirun -n 1 --allow-run-as-root a.out"
      ]
    }
  ],
  "metadata": {
    "colab": {
      "provenance": []
    },
    "kernelspec": {
      "display_name": "Python 3",
      "name": "python3"
    },
    "language_info": {
      "name": "python"
    }
  },
  "nbformat": 4,
  "nbformat_minor": 0
}
